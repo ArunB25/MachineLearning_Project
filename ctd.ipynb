{
 "cells": [
  {
   "cell_type": "code",
   "execution_count": null,
   "metadata": {},
   "outputs": [],
   "source": [
    "import pandas as pd\n",
    "import missingno as msno\n",
    "import matplotlib.pyplot as plt\n",
    "\n",
    "\n",
    "products = pd.read_csv(\"Products.csv\", lineterminator=\"\\n\")\n",
    "\n",
    "products['price'] = products['price'].str.replace('£','')\n",
    "products['price'] = products['price'].str.replace(',','')\n",
    "products['price'] = products['price'].astype('float64')\n",
    "products['page_id'] = products['page_id'].astype('int64')\n",
    "products['create_time'] = products['create_time'].astype('datetime64[ns]')\n",
    "# print(products.info())\n",
    "# with pd.option_context('display.max_rows', None, 'display.max_columns', None):\n",
    "#     print(products.head())\n",
    "\n",
    "print(products.describe())\n",
    "\n",
    "plt.plot(msno.matrix(products))\n",
    "plt.show()"
   ]
  }
 ],
 "metadata": {
  "language_info": {
   "name": "python"
  },
  "orig_nbformat": 4
 },
 "nbformat": 4,
 "nbformat_minor": 2
}
